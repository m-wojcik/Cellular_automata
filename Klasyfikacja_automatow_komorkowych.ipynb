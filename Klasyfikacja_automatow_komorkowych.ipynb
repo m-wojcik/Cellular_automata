{
 "cells": [
  {
   "cell_type": "markdown",
   "id": "f035a0a0",
   "metadata": {},
   "source": [
    "# Klasyfikacja automatów komórkowych"
   ]
  },
  {
   "cell_type": "markdown",
   "id": "f606136a",
   "metadata": {},
   "source": [
    " <em>Michał Wójcik, Stanisław Kurzątkowski</em>"
   ]
  },
  {
   "cell_type": "markdown",
   "id": "60ba123f",
   "metadata": {},
   "source": [
    "### Definicje funkcji"
   ]
  },
  {
   "cell_type": "code",
   "execution_count": 1,
   "id": "98dddf60",
   "metadata": {},
   "outputs": [],
   "source": [
    "import numpy as np\n",
    "import matplotlib.pyplot as plt\n",
    "import random\n",
    "import time"
   ]
  },
  {
   "cell_type": "code",
   "execution_count": 2,
   "id": "48765639",
   "metadata": {},
   "outputs": [],
   "source": [
    "def num_to_rule(num, size):\n",
    "    n = int(2**size)\n",
    "    rule = np.zeros(n)\n",
    "    for i in range(n):\n",
    "        num, r = divmod(num, 2)\n",
    "        rule[i] = r\n",
    "    return rule"
   ]
  },
  {
   "cell_type": "code",
   "execution_count": 3,
   "id": "a23500e1",
   "metadata": {},
   "outputs": [],
   "source": [
    "def num_of_ones_to_random_rule(num, size):\n",
    "    n = int(2**size)\n",
    "    rule = np.zeros(n)\n",
    "    indices = [i for i in range(n)]\n",
    "    random.shuffle(indices)\n",
    "\n",
    "    rule[indices[:num]] = 1\n",
    "    return rule   "
   ]
  },
  {
   "cell_type": "code",
   "execution_count": 4,
   "id": "e74569dd",
   "metadata": {},
   "outputs": [],
   "source": [
    "def apply_rule(current, rule, rule_size):\n",
    "    size = len(current)\n",
    "    after = np.zeros(size)\n",
    "    rule_count = np.zeros(2**rule_size)\n",
    "    shift = int(rule_size/2)    \n",
    "    for i in range(size):\n",
    "        num = 0\n",
    "        for j in range(rule_size):            \n",
    "            num += 2**(rule_size-j-1) * current[(i-shift+j) % size]\n",
    "        after[i] = rule[int(num)]\n",
    "        rule_count[int(num)] += 1\n",
    "    entropy = 0\n",
    "    for i in range(2**(rule_size)):\n",
    "        if rule_count[i] == 0:\n",
    "            pass\n",
    "        else:\n",
    "            entropy -= rule_count[i]/size * np.log2(rule_count[i]/size)\n",
    "    return after, entropy\n",
    "        "
   ]
  },
  {
   "cell_type": "code",
   "execution_count": 5,
   "id": "5df70d04",
   "metadata": {},
   "outputs": [],
   "source": [
    "def calculate_langton(rule):\n",
    "    return sum(rule)/len(rule)"
   ]
  },
  {
   "cell_type": "code",
   "execution_count": 6,
   "id": "6f633aa1",
   "metadata": {},
   "outputs": [],
   "source": [
    "def evolution_given_rule_given_init(rule, rule_size, length, iters, init):\n",
    "    # funkcja zwracająca ewolucję automatu i wykres jego entropii\n",
    "    \n",
    "    langton_coeff = calculate_langton(rule)\n",
    "    domain = np.zeros((iters, length))\n",
    "    domain[0] = init\n",
    "    entropy = np.zeros(iters-1)\n",
    "    for i in range(iters-1):\n",
    "        domain[i+1], entropy[i] = apply_rule(domain[i], rule, rule_size)\n",
    "    return domain, entropy, langton_coeff"
   ]
  },
  {
   "cell_type": "code",
   "execution_count": 7,
   "id": "8e44ab1e",
   "metadata": {},
   "outputs": [],
   "source": [
    "def evolution(num_of_ones, rule_size, length, iters):\n",
    "    # funkcja zwracająca współczynnik Langtona automatu i jego uśrednioną entropię\n",
    "    \n",
    "    rule = num_of_ones_to_random_rule(num_of_ones, rule_size)\n",
    "    domain = np.zeros((iters, length))\n",
    "    domain[0] = np.random.randint(2, size=length)\n",
    "    entropy = np.zeros(iters-1)\n",
    "    for i in range(iters-1):\n",
    "        domain[i+1], entropy[i] = apply_rule(domain[i], rule, rule_size)\n",
    "    langton = num_of_ones/(2**rule_size)\n",
    "    mean_entropy = np.mean(entropy[-100:])\n",
    "    return langton, mean_entropy"
   ]
  },
  {
   "cell_type": "markdown",
   "id": "c674f46d",
   "metadata": {},
   "source": [
    "# Tworzenie i przebieg automatu"
   ]
  },
  {
   "cell_type": "markdown",
   "id": "a8de38dd",
   "metadata": {},
   "source": [
    "### Definiowanie reguły lokalnej"
   ]
  },
  {
   "cell_type": "code",
   "execution_count": 8,
   "id": "9a6e3b58",
   "metadata": {},
   "outputs": [
    {
     "name": "stdout",
     "output_type": "stream",
     "text": [
      "0x51a12a21471004380434510010542546\n"
     ]
    }
   ],
   "source": [
    "rule_size = 7\n",
    "num_of_ones = 64\n",
    "\n",
    "# regułę można wpisać ręcznie:\n",
    "rule = [0., 1., 0., 1., 0., 0., 0., 1., 1., 0., 1., 0., 0., 0., 0., 1., 0., 0., 1., 0., 1., 0., 1., 0.,\n",
    " 0., 0., 1., 0., 0., 0., 0., 1., 0., 1., 0., 0., 0., 1., 1., 1., 0., 0., 0., 1., 0., 0., 0., 0.,\n",
    " 0., 0., 0., 0., 0., 1., 0., 0., 0., 0., 1., 1., 1., 0., 0., 0., 0., 0., 0., 0., 0., 1., 0., 0.,\n",
    " 0., 0., 1., 1., 0., 1., 0., 0., 0., 1., 0., 1., 0., 0., 0., 1., 0., 0., 0., 0., 0., 0., 0., 0.,\n",
    " 0., 0., 0., 1., 0., 0., 0., 0., 0., 1., 0., 1., 0., 1., 0., 0., 0., 0., 1., 0., 0., 1., 0., 1.,\n",
    " 0., 1., 0., 0., 0., 1., 1., 0.]\n",
    "\n",
    "# inne opcje:\n",
    "# rule = num_of_ones_to_random_rule(num_of_ones, rule_size)\n",
    "\n",
    "# wyświetlanie heksadecymalnego zapisu reguły\n",
    "rule1 = [int(x) for x in rule]\n",
    "rule1 = [str(x) for x in rule1]\n",
    "binary_string = \"\".join(rule1)\n",
    "decimal_representation = int(binary_string, 2)\n",
    "hexadecimal_string = hex(decimal_representation)\n",
    "print(hexadecimal_string)"
   ]
  },
  {
   "cell_type": "markdown",
   "id": "7dd5d824",
   "metadata": {},
   "source": [
    "### Ustalanie stanu początkowego"
   ]
  },
  {
   "cell_type": "code",
   "execution_count": 9,
   "id": "b5f578b6",
   "metadata": {},
   "outputs": [
    {
     "data": {
      "image/png": "[encoded data removed]",
      "text/plain": [
       "<Figure size 432x288 with 1 Axes>"
      ]
     },
     "metadata": {
      "needs_background": "dark"
     },
     "output_type": "display_data"
    }
   ],
   "source": [
    "length = 1000\n",
    "init_size = 100\n",
    "iters = 1000\n",
    "\n",
    "\n",
    "sample = np.random.randint(2, size=init_size)\n",
    "init = np.zeros((1,length))\n",
    "init[0][int(length/2-init_size/2):int(length/2+init_size/2)] = sample\n",
    "\n",
    "plt.yticks(color='w')\n",
    "plt.xticks(color='w')\n",
    "plt.tick_params(left = False)\n",
    "plt.tick_params(bottom = False)\n",
    "plt.imshow(init[:,int(length/2-init_size):int(length/2+init_size)], cmap='gray_r', aspect=10, interpolation='none') # [y, x]\n",
    "plt.show()"
   ]
  },
  {
   "cell_type": "code",
   "execution_count": 10,
   "id": "8f13f691",
   "metadata": {},
   "outputs": [
    {
     "name": "stdout",
     "output_type": "stream",
     "text": [
      "Wykonano w 9.39 sekund.\n"
     ]
    }
   ],
   "source": [
    "# symulacja wraz z obliczaniem czasu wykonywania\n",
    "\n",
    "start = time.time()\n",
    "L, E, langton_coeff = evolution_given_rule_given_init(rule, rule_size, length, iters, init)   \n",
    "end = time.time()\n",
    "seconds = end - start\n",
    "print(f'Wykonano w {seconds:.2f} sekund.')"
   ]
  },
  {
   "cell_type": "code",
   "execution_count": 11,
   "id": "17fc1180",
   "metadata": {
    "scrolled": true
   },
   "outputs": [
    {
     "data": {
      "image/png": "[encoded data removed]",
      "text/plain": [
       "<Figure size 432x288 with 1 Axes>"
      ]
     },
     "metadata": {
      "needs_background": "dark"
     },
     "output_type": "display_data"
    }
   ],
   "source": [
    "# wyświetlanie przebiegu stanu automatu\n",
    "\n",
    "fig, ax = plt.subplots() \n",
    "plt.yticks(color='w')\n",
    "plt.xticks(color='w')\n",
    "plt.tick_params(left = False)\n",
    "plt.tick_params(bottom = False)\n",
    "ax.set_title(f'$\\lambda = {langton_coeff:.2}$', fontsize=12) \n",
    "plt.imshow(L[:,:], cmap='gray_r', aspect='auto', interpolation='none') \n",
    "plt.savefig(f\"CA_{langton_coeff:.2}_{np.mean(E[-100:]):.3}_1.png\")"
   ]
  },
  {
   "cell_type": "code",
   "execution_count": 12,
   "id": "58a211e7",
   "metadata": {},
   "outputs": [
    {
     "data": {
      "image/png": "[encoded data removed]",
      "text/plain": [
       "<Figure size 432x432 with 1 Axes>"
      ]
     },
     "metadata": {
      "needs_background": "light"
     },
     "output_type": "display_data"
    }
   ],
   "source": [
    "# wykres entropii od iteracji\n",
    "\n",
    "fig, ax = plt.subplots(figsize=(6,6))\n",
    "ax.set_title('$H(t)$', fontsize=20)\n",
    "ax.set_xlabel(\"$t$\")\n",
    "ax.set_ylabel(\"$H$\")\n",
    "ax = plt.gca()\n",
    "#ax.set_xlim([xmin, xmax])\n",
    "ax.set_ylim([0, 8])\n",
    "\n",
    "ax.plot(E[:])\n",
    "plt.savefig(f\"CA_{langton_coeff:.2}_{np.mean(E[-100:]):.3}_1_ENTROPY.png\")\n",
    "plt.show()"
   ]
  },
  {
   "cell_type": "markdown",
   "id": "34e01cc0",
   "metadata": {},
   "source": [
    "## Tworzenie wykresu H(L)"
   ]
  },
  {
   "cell_type": "code",
   "execution_count": null,
   "id": "c6feeb80",
   "metadata": {},
   "outputs": [],
   "source": [
    "rule_size = 5\n",
    "length = 50\n",
    "iters = 10\n",
    "repetitions = 10\n",
    "\n",
    "langton_table = []\n",
    "entropy_table = []\n",
    "\n",
    "start = time.time()\n",
    "\n",
    "for l in range(2**(rule_size-1)): \n",
    "    print(f'L = {l}/{2**(rule_size-1)}')\n",
    "    for _ in range(repetitions):\n",
    "        L, E = evolution(l, rule_size, length, iters)\n",
    "        langton_table.append(L)\n",
    "        entropy_table.append(E)\n",
    "        \n",
    "end = time.time()\n",
    "seconds = end - start\n",
    "print(f'Done in {seconds:.2f} seconds.')"
   ]
  }
 ],
 "metadata": {
  "kernelspec": {
   "display_name": "Python 3 (ipykernel)",
   "language": "python",
   "name": "python3"
  },
  "language_info": {
   "codemirror_mode": {
    "name": "ipython",
    "version": 3
   },
   "file_extension": ".py",
   "mimetype": "text/x-python",
   "name": "python",
   "nbconvert_exporter": "python",
   "pygments_lexer": "ipython3",
   "version": "3.9.7"
  }
 },
 "nbformat": 4,
 "nbformat_minor": 5
}
